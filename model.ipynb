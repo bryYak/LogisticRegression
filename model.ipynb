{
 "cells": [
  {
   "cell_type": "markdown",
   "id": "e75f06d5",
   "metadata": {},
   "source": [
    "### Simple Logistic Regression\n",
    "\n",
    "I am following through Andrew Ng Machine Learning Specialization on coursera. Here is my custom made logistic regression code, and some examples from one of his optional lab."
   ]
  },
  {
   "cell_type": "markdown",
   "id": "b04eb43b",
   "metadata": {},
   "source": [
    "### Imports"
   ]
  },
  {
   "cell_type": "code",
   "execution_count": 92,
   "id": "b8be5825",
   "metadata": {},
   "outputs": [],
   "source": [
    "import numpy as np\n",
    "from logistic_regression import LogisticRegression\n",
    "import matplotlib.pyplot as plt"
   ]
  },
  {
   "cell_type": "markdown",
   "id": "6e42100c",
   "metadata": {},
   "source": [
    "## Model Training for 2D"
   ]
  },
  {
   "cell_type": "code",
   "execution_count": 93,
   "id": "b3764551",
   "metadata": {},
   "outputs": [
    {
     "name": "stdout",
     "output_type": "stream",
     "text": [
      "[5.28123029 5.07815608] -14.222409982019839\n"
     ]
    }
   ],
   "source": [
    "X_train = np.array([[0.5, 1.5], [1,1], [1.5, 0.5], [3, 0.5], [2, 2], [1, 2.5]])\n",
    "y_train = np.array([0, 0, 0, 1, 1, 1])\n",
    "\n",
    "model = LogisticRegression(0.1, 10000)\n",
    "model.fit(X_train, y_train)\n",
    "\n",
    "w, b = model.get_weights()\n",
    "print(w, b)"
   ]
  },
  {
   "cell_type": "markdown",
   "id": "33d16e23",
   "metadata": {},
   "source": [
    "### Visualization"
   ]
  },
  {
   "cell_type": "code",
   "execution_count": 94,
   "id": "0fd54e80",
   "metadata": {},
   "outputs": [
    {
     "data": {
      "image/png": "[encoded data removed]",
      "text/plain": [
       "<Figure size 500x400 with 1 Axes>"
      ]
     },
     "metadata": {},
     "output_type": "display_data"
    }
   ],
   "source": [
    "X_0 = X_train[y_train == 0]\n",
    "X_1 = X_train[y_train == 1]\n",
    "\n",
    "fig,ax = plt.subplots(1,1,figsize=(5,4))\n",
    "# plot the probability \n",
    "\n",
    "# Plot the original data\n",
    "plt.ylabel(r'$x_1$')\n",
    "plt.xlabel(r'$x_0$')   \n",
    "plt.axis((0, 4, 0, 3.5))\n",
    "\n",
    "plt.scatter(X_0[:, 0], X_0[:, 1], color='red', marker='x', label='Class 0')\n",
    "\n",
    "# Plot class 1 as blue 'o'\n",
    "plt.scatter(X_1[:, 0], X_1[:, 1], color='blue', marker='o', label='Class 1')\n",
    "\n",
    "# Plot the decision boundary\n",
    "x0 = -b/w[0]\n",
    "x1 = -b/w[1]\n",
    "plt.plot([0,x0],[x1,0], lw=1)\n",
    "plt.show()"
   ]
  },
  {
   "cell_type": "markdown",
   "id": "61d5929f",
   "metadata": {},
   "source": [
    "## Case for 1D"
   ]
  },
  {
   "cell_type": "code",
   "execution_count": 95,
   "id": "aec0e38f",
   "metadata": {},
   "outputs": [],
   "source": [
    "X_train = np.array([0., 1, 2, 3, 4, 5])\n",
    "X_train = X_train.reshape(-1, 1)\n",
    "y_train = np.array([0,  0, 0, 1, 1, 1])\n",
    "model.fit(X_train, y_train)\n",
    "\n",
    "w, b = model.get_weights()"
   ]
  },
  {
   "cell_type": "code",
   "execution_count": 96,
   "id": "5335d845",
   "metadata": {},
   "outputs": [
    {
     "name": "stdout",
     "output_type": "stream",
     "text": [
      "2.471509770831107\n"
     ]
    },
    {
     "data": {
      "image/png": "[encoded data removed]",
      "text/plain": [
       "<Figure size 500x400 with 1 Axes>"
      ]
     },
     "metadata": {},
     "output_type": "display_data"
    }
   ],
   "source": [
    "X_0 = X_train[y_train == 0]\n",
    "X_1 = X_train[y_train == 1]\n",
    "\n",
    "fig,ax = plt.subplots(1,1,figsize=(5,4))\n",
    "# plot the probability \n",
    "\n",
    "# Plot the original data\n",
    "plt.ylabel(r'$x_1$')\n",
    "plt.xlabel(r'$x_0$')   \n",
    "plt.axis((0, 6, 0, 1))\n",
    "\n",
    "plt.scatter(X_0, np.zeros(len(X_0)), color='red', marker='x', label='Class 0')\n",
    "\n",
    "# Plot class 1 as blue 'o'\n",
    "plt.scatter(X_1, np.ones(len(X_1)), color='blue', marker='o', label='Class 1')\n",
    "\n",
    "# Plot the decision boundary\n",
    "x0 = -b/w[0]\n",
    "print(x0)\n",
    "plt.axvline(x = x0, linewidth=2)\n",
    "plt.show()"
   ]
  }
 ],
 "metadata": {
  "kernelspec": {
   "display_name": ".venv",
   "language": "python",
   "name": "python3"
  },
  "language_info": {
   "codemirror_mode": {
    "name": "ipython",
    "version": 3
   },
   "file_extension": ".py",
   "mimetype": "text/x-python",
   "name": "python",
   "nbconvert_exporter": "python",
   "pygments_lexer": "ipython3",
   "version": "3.11.9"
  }
 },
 "nbformat": 4,
 "nbformat_minor": 5
}
